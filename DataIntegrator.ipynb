{
 "cells": [
  {
   "cell_type": "code",
   "execution_count": null,
   "metadata": {},
   "outputs": [],
   "source": [
    "#Libraries\n",
    "import csv\n",
    "import os"
   ]
  },
  {
   "cell_type": "code",
   "execution_count": 36,
   "metadata": {},
   "outputs": [
    {
     "name": "stdout",
     "output_type": "stream",
     "text": [
      "['Name', 'Temperature', 'Time', 'Date', 'Age']\n",
      "['Charlie', '39.8', '21:47:43', '9/4/2024', '23']\n",
      "['Charlie', '36.2', '3:10:43', '9/14/2024', '24']\n",
      "['Bob', '36.5', '18:35:43', '9/28/2024', '52']\n",
      "['Eva', '36.3', '19:31:43', '7/28/2024', '64']\n",
      "['Eva', '38.2', '15:51:43', '9/5/2024', '75']\n",
      "['Eva', '38.5', '7:03:43', '4/12/2024', '23']\n",
      "['Alice', '39', '16:21:43', '4/16/2024', '43']\n",
      "['David', '39.6', '4:16:43', '3/27/2024', '26']\n",
      "['Eva', '36.1', '3:43:43', '6/15/2024', '75']\n",
      "['Bob', '35.2', '16:59:43', '6/27/2024', '31']\n",
      "['Full Name', 'Temp', 'Timestamp', 'Day Recorded', 'Status']\n",
      "['David', '95', '5:53 AM', '14/12/2023', 'High']\n",
      "['Charlie', '95', '2:27 AM', '6/12/2023', 'Normal']\n",
      "['Charlie', '101.3', '5:29 PM', '12/2/2024', 'Elevated']\n",
      "['Alice', '100.4', '7:16 PM', '9/9/2024', 'Normal']\n",
      "['Alice', '98.8', '12:52 AM', '13/10/2023', 'Normal']\n",
      "['Alice', '96.3', '7:35 AM', '19/02/2024', 'Elevated']\n",
      "['David', '100.4', '12:03 AM', '3/10/2024', 'Elevated']\n",
      "['David', '97.1', '11:35 PM', '1/8/2024', 'High']\n",
      "['Bob', '97.2', '3:06 PM', '11/10/2024', 'High']\n",
      "['Charlie', '98.7', '9:17 AM', '30/12/2023', 'Elevated']\n"
     ]
    }
   ],
   "source": [
    "# Read Contents of CSV Files\n",
    "\n",
    "# Function to check if file exists and then open it\n",
    "def open_csv_file(file_path):\n",
    "    master_data = []\n",
    "    if os.path.exists(file_path):  # Check if the file exists\n",
    "        with open(file_path, mode='r', newline='') as file:\n",
    "            reader = csv.reader(file)\n",
    "            for row in reader:\n",
    "                master_data.append(row)\n",
    "            return master_data\n",
    "    else: # Creates new file if not existant\n",
    "        print(f\"The file '{file_path}' does not exist.\")\n",
    "        open(file_path, mode='w', newline='')\n",
    "\n",
    "master_data = []\n",
    "dependent_data = []\n",
    "file_path_master = 'data.csv'\n",
    "file_path_dependent = 'data2.csv'\n",
    "master_data = open_csv_file(file_path_master)\n",
    "dependent_data = open_csv_file(file_path_dependent)\n"
   ]
  },
  {
   "cell_type": "code",
   "execution_count": 43,
   "metadata": {},
   "outputs": [
    {
     "name": "stdout",
     "output_type": "stream",
     "text": [
      "['name', 'date', 'time', 'temperature', 'status', 'address', 'id', 'phone number', 'email', 'price', 'quantity', 'age', 'gender', 'weight', 'height']\n",
      "['name', 'date', 'time', 'temperature', 'status', 'address', 'id', 'phone', 'email', 'price', 'quantity', 'age', 'gender', 'weight', 'height']\n",
      "['full name', 'dob', 'timestamp', 'temp', 'state', 'location', 'identifier', 'phone number', 'email address', 'cost', 'amount', 'years', 'sex', 'mass', 'tall']\n",
      "['first name', 'birthdate', 'hour', 'degrees', 'condition', 'place', 'unique id', 'contact number', 'e-mail', 'value', 'count', 'age in years', 'identity', 'kg', 'centimeters']\n",
      "['last name', 'day', 'minute', 'celsius', 'flag', 'home address', 'uuid', 'mobile', 'mail', 'amount', 'number', 'years old', 'male', 'pounds', 'inches']\n",
      "['surname', 'recorded date', 'second', 'fahrenheit', 'current state', 'residence', 'identification', 'cell', 'contact email', 'total', 'total count', 'age group', 'female', 'lbs', 'feet']\n",
      "['given name', 'event date', 'time recorded', 'thermometer', '', 'street address', '', 'telephone', '', 'rate', '', '', 'non-binary', 'grams', 'length']\n"
     ]
    }
   ],
   "source": [
    "# Categorize the data\n",
    "cateogry_threshold = 10 # Sets the threshold for categorizing column names (higher = less likely to be \"etc\")\n",
    "\n",
    "def levenshtein_distance(str1, str2):\n",
    "    # Create a matrix to store distances\n",
    "    m, n = len(str1), len(str2)\n",
    "    dp = [[0] * (n + 1) for _ in range(m + 1)]\n",
    "    \n",
    "    # Initialize the matrix for base cases\n",
    "    for i in range(m + 1):\n",
    "        dp[i][0] = i  # Cost of deleting characters from str1 to match an empty str2\n",
    "    for j in range(n + 1):\n",
    "        dp[0][j] = j  # Cost of inserting characters into str1 to match str2\n",
    "    \n",
    "    # Fill in the matrix using a bottom-up dynamic programming approach\n",
    "    for i in range(1, m + 1):\n",
    "        for j in range(1, n + 1):\n",
    "            if str1[i - 1] == str2[j - 1]:\n",
    "                cost = 0  # No operation needed if characters match\n",
    "            else:\n",
    "                cost = 1  # Cost of a substitution if characters don't match\n",
    "            \n",
    "            # Compute the minimum cost of the three possible operations:\n",
    "            dp[i][j] = min(dp[i - 1][j] + 1,     # Deletion\n",
    "                           dp[i][j - 1] + 1,     # Insertion\n",
    "                           dp[i - 1][j - 1] + cost)  # Substitution\n",
    "    \n",
    "    # The final value in dp[m][n] is the Levenshtein distance\n",
    "    return dp[m][n]\n",
    "\n",
    "def CategorizeAllColumns(dataTable):\n",
    "    table_categories = []\n",
    "    for columnName in dataTable[0]:\n",
    "        current_category = \"etc\" \n",
    "        num = cateogry_threshold\n",
    "        for category in categories:  \n",
    "            for othername in category:\n",
    "                distance = levenshtein_distance(othername, columnName)\n",
    "                if (distance < num):\n",
    "                    num = distance\n",
    "                    current_category = category\n",
    "        table_categories.append(current_category)  \n",
    "    return\n",
    "\n",
    "# Example usage\n",
    "categories = open_csv_file('categories_data.csv')\n",
    "CategorizeAllColumns(master_data)\n",
    "\n",
    "CategorizeAllColumns(dependent_data)\n"
   ]
  },
  {
   "cell_type": "code",
   "execution_count": 40,
   "metadata": {},
   "outputs": [
    {
     "data": {
      "text/plain": [
       "'categories_data.csv'"
      ]
     },
     "execution_count": 40,
     "metadata": {},
     "output_type": "execute_result"
    }
   ],
   "source": [
    "import csv\n",
    "\n",
    "# Define categories and related terms\n",
    "categories = {\n",
    "    \"name\": [\"name\", \"full name\", \"first name\", \"last name\", \"surname\", \"given name\"],\n",
    "    \"date\": [\"date\", \"dob\", \"birthdate\", \"day\", \"recorded date\", \"event date\"],\n",
    "    \"time\": [\"time\", \"timestamp\", \"hour\", \"minute\", \"second\", \"time recorded\"],\n",
    "    \"temperature\": [\"temperature\", \"temp\", \"degrees\", \"celsius\", \"fahrenheit\", \"thermometer\"],\n",
    "    \"status\": [\"status\", \"state\", \"condition\", \"flag\", \"current state\"],\n",
    "    \"address\": [\"address\", \"location\", \"place\", \"home address\", \"residence\", \"street address\"],\n",
    "    \"id\": [\"id\", \"identifier\", \"unique id\", \"uuid\", \"identification\"],\n",
    "    \"phone number\": [\"phone\", \"phone number\", \"contact number\", \"mobile\", \"cell\", \"telephone\"],\n",
    "    \"email\": [\"email\", \"email address\", \"e-mail\", \"mail\", \"contact email\"],\n",
    "    \"price\": [\"price\", \"cost\", \"value\", \"amount\", \"total\", \"rate\"],\n",
    "    \"quantity\": [\"quantity\", \"amount\", \"count\", \"number\", \"total count\"],\n",
    "    \"age\": [\"age\", \"years\", \"age in years\", \"years old\", \"age group\"],\n",
    "    \"gender\": [\"gender\", \"sex\", \"identity\", \"male\", \"female\", \"non-binary\"],\n",
    "    \"weight\": [\"weight\", \"mass\", \"kg\", \"pounds\", \"lbs\", \"grams\"],\n",
    "    \"height\": [\"height\", \"tall\", \"centimeters\", \"inches\", \"feet\", \"length\"],\n",
    "}\n",
    "\n",
    "# Define the file path\n",
    "csv_file_path = 'categories_data.csv'\n",
    "\n",
    "# Write the categories and terms to the CSV file\n",
    "with open(csv_file_path, mode='w', newline='') as file:\n",
    "    writer = csv.writer(file)\n",
    "    \n",
    "    # Write the header row (categories)\n",
    "    writer.writerow(categories.keys())\n",
    "    \n",
    "    # Get the max number of related terms in any category\n",
    "    max_terms = max(len(terms) for terms in categories.values())\n",
    "    \n",
    "    # Write the rows of related terms\n",
    "    for i in range(max_terms):\n",
    "        row = [categories[cat][i] if i < len(categories[cat]) else \"\" for cat in categories]\n",
    "        writer.writerow(row)\n",
    "\n",
    "csv_file_path\n"
   ]
  }
 ],
 "metadata": {
  "kernelspec": {
   "display_name": "Python 3",
   "language": "python",
   "name": "python3"
  },
  "language_info": {
   "codemirror_mode": {
    "name": "ipython",
    "version": 3
   },
   "file_extension": ".py",
   "mimetype": "text/x-python",
   "name": "python",
   "nbconvert_exporter": "python",
   "pygments_lexer": "ipython3",
   "version": "3.12.7"
  }
 },
 "nbformat": 4,
 "nbformat_minor": 2
}
